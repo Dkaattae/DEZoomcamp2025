{
  "nbformat": 4,
  "nbformat_minor": 0,
  "metadata": {
    "colab": {
      "provenance": [],
      "authorship_tag": "ABX9TyOeHJNssQ6TagCulimU3880",
      "include_colab_link": true
    },
    "kernelspec": {
      "name": "python3",
      "display_name": "Python 3"
    },
    "language_info": {
      "name": "python"
    }
  },
  "cells": [
    {
      "cell_type": "markdown",
      "metadata": {
        "id": "view-in-github",
        "colab_type": "text"
      },
      "source": [
        "<a href=\"https://colab.research.google.com/github/Dkaattae/DEZoomcamp2025/blob/main/week5/homework.ipynb\" target=\"_parent\"><img src=\"https://colab.research.google.com/assets/colab-badge.svg\" alt=\"Open In Colab\"/></a>"
      ]
    },
    {
      "cell_type": "code",
      "execution_count": 1,
      "metadata": {
        "colab": {
          "base_uri": "https://localhost:8080/"
        },
        "id": "vT6U7TvoSXVJ",
        "outputId": "5e3483cd-7e04-4862-e248-a06df7e32545"
      },
      "outputs": [
        {
          "output_type": "stream",
          "name": "stdout",
          "text": [
            "\u001b[33m\r0% [Working]\u001b[0m\r            \rGet:1 http://security.ubuntu.com/ubuntu jammy-security InRelease [129 kB]\n",
            "\u001b[33m\r0% [Connecting to archive.ubuntu.com (185.125.190.81)] [1 InRelease 9,828 B/129\u001b[0m\r                                                                               \rGet:2 https://cloud.r-project.org/bin/linux/ubuntu jammy-cran40/ InRelease [3,632 B]\n",
            "\u001b[33m\r0% [Connecting to archive.ubuntu.com (185.125.190.81)] [1 InRelease 63.4 kB/129\u001b[0m\u001b[33m\r0% [Connecting to archive.ubuntu.com (185.125.190.81)] [1 InRelease 129 kB/129 \u001b[0m\u001b[33m\r0% [Connecting to archive.ubuntu.com (185.125.190.81)] [Connected to r2u.stat.i\u001b[0m\r                                                                               \rGet:3 https://developer.download.nvidia.com/compute/cuda/repos/ubuntu2204/x86_64  InRelease [1,581 B]\n",
            "\u001b[33m\r0% [Waiting for headers] [Connected to r2u.stat.illinois.edu (192.17.190.167)] \u001b[0m\u001b[33m\r0% [Waiting for headers] [Connected to r2u.stat.illinois.edu (192.17.190.167)] \u001b[0m\r                                                                               \rHit:4 http://archive.ubuntu.com/ubuntu jammy InRelease\n",
            "\u001b[33m\r0% [Waiting for headers] [Connected to ppa.launchpadcontent.net (185.125.190.80\u001b[0m\r                                                                               \rGet:5 https://r2u.stat.illinois.edu/ubuntu jammy InRelease [6,555 B]\n",
            "Get:6 http://archive.ubuntu.com/ubuntu jammy-updates InRelease [128 kB]\n",
            "Get:7 http://security.ubuntu.com/ubuntu jammy-security/restricted amd64 Packages [3,657 kB]\n",
            "Get:8 https://developer.download.nvidia.com/compute/cuda/repos/ubuntu2204/x86_64  Packages [1,318 kB]\n",
            "Hit:9 https://ppa.launchpadcontent.net/deadsnakes/ppa/ubuntu jammy InRelease\n",
            "Get:10 http://security.ubuntu.com/ubuntu jammy-security/main amd64 Packages [2,637 kB]\n",
            "Get:11 http://security.ubuntu.com/ubuntu jammy-security/universe amd64 Packages [1,235 kB]\n",
            "Hit:12 https://ppa.launchpadcontent.net/graphics-drivers/ppa/ubuntu jammy InRelease\n",
            "Get:13 http://archive.ubuntu.com/ubuntu jammy-backports InRelease [127 kB]\n",
            "Hit:14 https://ppa.launchpadcontent.net/ubuntugis/ppa/ubuntu jammy InRelease\n",
            "Get:15 https://r2u.stat.illinois.edu/ubuntu jammy/main all Packages [8,699 kB]\n",
            "Get:16 https://r2u.stat.illinois.edu/ubuntu jammy/main amd64 Packages [2,660 kB]\n",
            "Get:17 http://archive.ubuntu.com/ubuntu jammy-updates/restricted amd64 Packages [3,799 kB]\n",
            "Get:18 http://archive.ubuntu.com/ubuntu jammy-updates/main amd64 Packages [2,941 kB]\n",
            "Get:19 http://archive.ubuntu.com/ubuntu jammy-updates/universe amd64 Packages [1,528 kB]\n",
            "Get:20 http://archive.ubuntu.com/ubuntu jammy-backports/universe amd64 Packages [35.2 kB]\n",
            "Fetched 28.9 MB in 3s (10.5 MB/s)\n",
            "Reading package lists... Done\n",
            "Building dependency tree... Done\n",
            "Reading state information... Done\n",
            "26 packages can be upgraded. Run 'apt list --upgradable' to see them.\n",
            "\u001b[1;33mW: \u001b[0mSkipping acquire of configured file 'main/source/Sources' as repository 'https://r2u.stat.illinois.edu/ubuntu jammy InRelease' does not seem to provide it (sources.list entry misspelt?)\u001b[0m\n",
            "tar: spark-3.2.1-bin-hadoop3.2.tgz: Cannot open: No such file or directory\n",
            "tar: Error is not recoverable: exiting now\n",
            "Requirement already satisfied: pyspark in /usr/local/lib/python3.11/dist-packages (3.5.4)\n",
            "Requirement already satisfied: py4j==0.10.9.7 in /usr/local/lib/python3.11/dist-packages (from pyspark) (0.10.9.7)\n",
            "Requirement already satisfied: py4j in /usr/local/lib/python3.11/dist-packages (0.10.9.7)\n"
          ]
        }
      ],
      "source": [
        "!sudo apt update\n",
        "!apt-get install openjdk-8-jdk-headless -qq > /dev/null\n",
        "#Check this site for the latest download link https://www.apache.org/dyn/closer.lua/spark/spark-3.2.1/spark-3.2.1-bin-hadoop3.2.tgz\n",
        "!wget -q https://dlcdn.apache.org/spark/spark-3.2.1/spark-3.2.1-bin-hadoop3.2.tgz\n",
        "!tar xf spark-3.2.1-bin-hadoop3.2.tgz\n",
        "!pip install -q findspark\n",
        "!pip install pyspark\n",
        "!pip install py4j\n",
        "\n",
        "import os\n",
        "import sys\n",
        "# os.environ[\"JAVA_HOME\"] = \"/usr/lib/jvm/java-8-openjdk-amd64\"\n",
        "# os.environ[\"SPARK_HOME\"] = \"/content/spark-3.2.1-bin-hadoop3.2\"\n",
        "\n",
        "\n",
        "import findspark\n",
        "findspark.init()\n",
        "findspark.find()\n",
        "\n",
        "import pyspark\n",
        "\n",
        "from pyspark.sql import DataFrame, SparkSession\n",
        "from typing import List\n",
        "import pyspark.sql.types as T\n",
        "import pyspark.sql.functions as F\n",
        "\n",
        "spark= SparkSession \\\n",
        "       .builder \\\n",
        "       .appName(\"test\") \\\n",
        "       .getOrCreate()"
      ]
    },
    {
      "cell_type": "code",
      "source": [
        "import pandas as pd\n",
        "from pyspark.sql import types"
      ],
      "metadata": {
        "id": "1iLkCBiXhkCu"
      },
      "execution_count": 2,
      "outputs": []
    },
    {
      "cell_type": "code",
      "source": [
        "!wget https://d37ci6vzurychx.cloudfront.net/trip-data/yellow_tripdata_2024-10.parquet"
      ],
      "metadata": {
        "colab": {
          "base_uri": "https://localhost:8080/"
        },
        "id": "jqHoRUUWinOl",
        "outputId": "7e86f150-e126-4a36-fd95-01757f97b73b"
      },
      "execution_count": 3,
      "outputs": [
        {
          "output_type": "stream",
          "name": "stdout",
          "text": [
            "--2025-02-25 19:17:41--  https://d37ci6vzurychx.cloudfront.net/trip-data/yellow_tripdata_2024-10.parquet\n",
            "Resolving d37ci6vzurychx.cloudfront.net (d37ci6vzurychx.cloudfront.net)... 3.167.84.228, 3.167.84.86, 3.167.84.131, ...\n",
            "Connecting to d37ci6vzurychx.cloudfront.net (d37ci6vzurychx.cloudfront.net)|3.167.84.228|:443... connected.\n",
            "HTTP request sent, awaiting response... 200 OK\n",
            "Length: 64346071 (61M) [binary/octet-stream]\n",
            "Saving to: ‘yellow_tripdata_2024-10.parquet’\n",
            "\n",
            "yellow_tripdata_202 100%[===================>]  61.36M   125MB/s    in 0.5s    \n",
            "\n",
            "2025-02-25 19:17:41 (125 MB/s) - ‘yellow_tripdata_2024-10.parquet’ saved [64346071/64346071]\n",
            "\n"
          ]
        }
      ]
    },
    {
      "cell_type": "code",
      "source": [
        "green_schema = types.StructType([\n",
        "    types.StructField(\"VendorID\", types.IntegerType(), True),\n",
        "    types.StructField(\"lpep_pickup_datetime\", types.TimestampType(), True),\n",
        "    types.StructField(\"lpep_dropoff_datetime\", types.TimestampType(), True),\n",
        "    types.StructField(\"store_and_fwd_flag\", types.StringType(), True),\n",
        "    types.StructField(\"RatecodeID\", types.IntegerType(), True),\n",
        "    types.StructField(\"PULocationID\", types.IntegerType(), True),\n",
        "    types.StructField(\"DOLocationID\", types.IntegerType(), True),\n",
        "    types.StructField(\"passenger_count\", types.IntegerType(), True),\n",
        "    types.StructField(\"trip_distance\", types.DoubleType(), True),\n",
        "    types.StructField(\"fare_amount\", types.DoubleType(), True),\n",
        "    types.StructField(\"extra\", types.DoubleType(), True),\n",
        "    types.StructField(\"mta_tax\", types.DoubleType(), True),\n",
        "    types.StructField(\"tip_amount\", types.DoubleType(), True),\n",
        "    types.StructField(\"tolls_amount\", types.DoubleType(), True),\n",
        "    types.StructField(\"ehail_fee\", types.DoubleType(), True),\n",
        "    types.StructField(\"improvement_surcharge\", types.DoubleType(), True),\n",
        "    types.StructField(\"total_amount\", types.DoubleType(), True),\n",
        "    types.StructField(\"payment_type\", types.IntegerType(), True),\n",
        "    types.StructField(\"trip_type\", types.IntegerType(), True),\n",
        "    types.StructField(\"congestion_surcharge\", types.DoubleType(), True)\n",
        "])\n",
        "\n",
        "yellow_schema = types.StructType([\n",
        "    types.StructField(\"VendorID\", types.IntegerType(), True),\n",
        "    types.StructField(\"tpep_pickup_datetime\", types.TimestampType(), True),\n",
        "    types.StructField(\"tpep_dropoff_datetime\", types.TimestampType(), True),\n",
        "    types.StructField(\"passenger_count\", types.LongType(), True),\n",
        "    types.StructField(\"trip_distance\", types.DoubleType(), True),\n",
        "    types.StructField(\"RatecodeID\", types.LongType(), True),\n",
        "    types.StructField(\"store_and_fwd_flag\", types.StringType(), True),\n",
        "    types.StructField(\"PULocationID\", types.IntegerType(), True),\n",
        "    types.StructField(\"DOLocationID\", types.IntegerType(), True),\n",
        "    types.StructField(\"payment_type\", types.LongType(), True),\n",
        "    types.StructField(\"fare_amount\", types.DoubleType(), True),\n",
        "    types.StructField(\"extra\", types.DoubleType(), True),\n",
        "    types.StructField(\"mta_tax\", types.DoubleType(), True),\n",
        "    types.StructField(\"tip_amount\", types.DoubleType(), True),\n",
        "    types.StructField(\"tolls_amount\", types.DoubleType(), True),\n",
        "    types.StructField(\"improvement_surcharge\", types.DoubleType(), True),\n",
        "    types.StructField(\"total_amount\", types.DoubleType(), True),\n",
        "    types.StructField(\"congestion_surcharge\", types.DoubleType(), True)\n",
        "])"
      ],
      "metadata": {
        "id": "IJSuDzK1izch"
      },
      "execution_count": 43,
      "outputs": []
    },
    {
      "cell_type": "code",
      "source": [
        "df = spark.read \\\n",
        "    .schema(yellow_schema) \\\n",
        "    .parquet('yellow_tripdata_2024-10.parquet')"
      ],
      "metadata": {
        "id": "EL1fCpNyjAUh"
      },
      "execution_count": 44,
      "outputs": []
    },
    {
      "cell_type": "code",
      "source": [
        "df.printSchema()"
      ],
      "metadata": {
        "colab": {
          "base_uri": "https://localhost:8080/"
        },
        "id": "fX7zxG_NoMlq",
        "outputId": "9e21b0e2-a29d-41b2-d99c-41f0c1681555"
      },
      "execution_count": 45,
      "outputs": [
        {
          "output_type": "stream",
          "name": "stdout",
          "text": [
            "root\n",
            " |-- VendorID: integer (nullable = true)\n",
            " |-- tpep_pickup_datetime: timestamp (nullable = true)\n",
            " |-- tpep_dropoff_datetime: timestamp (nullable = true)\n",
            " |-- passenger_count: long (nullable = true)\n",
            " |-- trip_distance: double (nullable = true)\n",
            " |-- RatecodeID: long (nullable = true)\n",
            " |-- store_and_fwd_flag: string (nullable = true)\n",
            " |-- PULocationID: integer (nullable = true)\n",
            " |-- DOLocationID: integer (nullable = true)\n",
            " |-- payment_type: long (nullable = true)\n",
            " |-- fare_amount: double (nullable = true)\n",
            " |-- extra: double (nullable = true)\n",
            " |-- mta_tax: double (nullable = true)\n",
            " |-- tip_amount: double (nullable = true)\n",
            " |-- tolls_amount: double (nullable = true)\n",
            " |-- improvement_surcharge: double (nullable = true)\n",
            " |-- total_amount: double (nullable = true)\n",
            " |-- congestion_surcharge: double (nullable = true)\n",
            "\n"
          ]
        }
      ]
    },
    {
      "cell_type": "code",
      "source": [
        "df = df.repartition(4)"
      ],
      "metadata": {
        "id": "Zxqu88yzjQ1Y"
      },
      "execution_count": 46,
      "outputs": []
    },
    {
      "cell_type": "code",
      "source": [
        "df.write.parquet('yellow_taxi/2024/10/')"
      ],
      "metadata": {
        "colab": {
          "base_uri": "https://localhost:8080/",
          "height": 282
        },
        "id": "STkrv1M8jWsH",
        "outputId": "593067db-9151-478c-8dc4-6f1b74dd8f72"
      },
      "execution_count": 47,
      "outputs": [
        {
          "output_type": "error",
          "ename": "AnalysisException",
          "evalue": "[PATH_ALREADY_EXISTS] Path file:/content/yellow_taxi/2024/10 already exists. Set mode as \"overwrite\" to overwrite the existing path.",
          "traceback": [
            "\u001b[0;31m---------------------------------------------------------------------------\u001b[0m",
            "\u001b[0;31mAnalysisException\u001b[0m                         Traceback (most recent call last)",
            "\u001b[0;32m<ipython-input-47-ba1c48fb2480>\u001b[0m in \u001b[0;36m<cell line: 0>\u001b[0;34m()\u001b[0m\n\u001b[0;32m----> 1\u001b[0;31m \u001b[0mdf\u001b[0m\u001b[0;34m.\u001b[0m\u001b[0mwrite\u001b[0m\u001b[0;34m.\u001b[0m\u001b[0mparquet\u001b[0m\u001b[0;34m(\u001b[0m\u001b[0;34m'yellow_taxi/2024/10/'\u001b[0m\u001b[0;34m)\u001b[0m\u001b[0;34m\u001b[0m\u001b[0;34m\u001b[0m\u001b[0m\n\u001b[0m",
            "\u001b[0;32m/usr/local/lib/python3.11/dist-packages/pyspark/sql/readwriter.py\u001b[0m in \u001b[0;36mparquet\u001b[0;34m(self, path, mode, partitionBy, compression)\u001b[0m\n\u001b[1;32m   1719\u001b[0m             \u001b[0mself\u001b[0m\u001b[0;34m.\u001b[0m\u001b[0mpartitionBy\u001b[0m\u001b[0;34m(\u001b[0m\u001b[0mpartitionBy\u001b[0m\u001b[0;34m)\u001b[0m\u001b[0;34m\u001b[0m\u001b[0;34m\u001b[0m\u001b[0m\n\u001b[1;32m   1720\u001b[0m         \u001b[0mself\u001b[0m\u001b[0;34m.\u001b[0m\u001b[0m_set_opts\u001b[0m\u001b[0;34m(\u001b[0m\u001b[0mcompression\u001b[0m\u001b[0;34m=\u001b[0m\u001b[0mcompression\u001b[0m\u001b[0;34m)\u001b[0m\u001b[0;34m\u001b[0m\u001b[0;34m\u001b[0m\u001b[0m\n\u001b[0;32m-> 1721\u001b[0;31m         \u001b[0mself\u001b[0m\u001b[0;34m.\u001b[0m\u001b[0m_jwrite\u001b[0m\u001b[0;34m.\u001b[0m\u001b[0mparquet\u001b[0m\u001b[0;34m(\u001b[0m\u001b[0mpath\u001b[0m\u001b[0;34m)\u001b[0m\u001b[0;34m\u001b[0m\u001b[0;34m\u001b[0m\u001b[0m\n\u001b[0m\u001b[1;32m   1722\u001b[0m \u001b[0;34m\u001b[0m\u001b[0m\n\u001b[1;32m   1723\u001b[0m     def text(\n",
            "\u001b[0;32m/usr/local/lib/python3.11/dist-packages/py4j/java_gateway.py\u001b[0m in \u001b[0;36m__call__\u001b[0;34m(self, *args)\u001b[0m\n\u001b[1;32m   1320\u001b[0m \u001b[0;34m\u001b[0m\u001b[0m\n\u001b[1;32m   1321\u001b[0m         \u001b[0manswer\u001b[0m \u001b[0;34m=\u001b[0m \u001b[0mself\u001b[0m\u001b[0;34m.\u001b[0m\u001b[0mgateway_client\u001b[0m\u001b[0;34m.\u001b[0m\u001b[0msend_command\u001b[0m\u001b[0;34m(\u001b[0m\u001b[0mcommand\u001b[0m\u001b[0;34m)\u001b[0m\u001b[0;34m\u001b[0m\u001b[0;34m\u001b[0m\u001b[0m\n\u001b[0;32m-> 1322\u001b[0;31m         return_value = get_return_value(\n\u001b[0m\u001b[1;32m   1323\u001b[0m             answer, self.gateway_client, self.target_id, self.name)\n\u001b[1;32m   1324\u001b[0m \u001b[0;34m\u001b[0m\u001b[0m\n",
            "\u001b[0;32m/usr/local/lib/python3.11/dist-packages/pyspark/errors/exceptions/captured.py\u001b[0m in \u001b[0;36mdeco\u001b[0;34m(*a, **kw)\u001b[0m\n\u001b[1;32m    183\u001b[0m                 \u001b[0;31m# Hide where the exception came from that shows a non-Pythonic\u001b[0m\u001b[0;34m\u001b[0m\u001b[0;34m\u001b[0m\u001b[0m\n\u001b[1;32m    184\u001b[0m                 \u001b[0;31m# JVM exception message.\u001b[0m\u001b[0;34m\u001b[0m\u001b[0;34m\u001b[0m\u001b[0m\n\u001b[0;32m--> 185\u001b[0;31m                 \u001b[0;32mraise\u001b[0m \u001b[0mconverted\u001b[0m \u001b[0;32mfrom\u001b[0m \u001b[0;32mNone\u001b[0m\u001b[0;34m\u001b[0m\u001b[0;34m\u001b[0m\u001b[0m\n\u001b[0m\u001b[1;32m    186\u001b[0m             \u001b[0;32melse\u001b[0m\u001b[0;34m:\u001b[0m\u001b[0;34m\u001b[0m\u001b[0;34m\u001b[0m\u001b[0m\n\u001b[1;32m    187\u001b[0m                 \u001b[0;32mraise\u001b[0m\u001b[0;34m\u001b[0m\u001b[0;34m\u001b[0m\u001b[0m\n",
            "\u001b[0;31mAnalysisException\u001b[0m: [PATH_ALREADY_EXISTS] Path file:/content/yellow_taxi/2024/10 already exists. Set mode as \"overwrite\" to overwrite the existing path."
          ]
        }
      ]
    },
    {
      "cell_type": "code",
      "source": [
        "!ls -lh yellow_taxi/2024/10/"
      ],
      "metadata": {
        "colab": {
          "base_uri": "https://localhost:8080/"
        },
        "id": "fDuIyfN1kbdb",
        "outputId": "cca8a95c-6dca-421e-be1c-f9acf4e67c7f"
      },
      "execution_count": 48,
      "outputs": [
        {
          "output_type": "stream",
          "name": "stdout",
          "text": [
            "total 99M\n",
            "-rw-r--r-- 1 root root 25M Feb 25 19:23 part-00000-9461fe62-0ecd-4aae-8e5b-2a45d980b654-c000.snappy.parquet\n",
            "-rw-r--r-- 1 root root 25M Feb 25 19:23 part-00001-9461fe62-0ecd-4aae-8e5b-2a45d980b654-c000.snappy.parquet\n",
            "-rw-r--r-- 1 root root 25M Feb 25 19:23 part-00002-9461fe62-0ecd-4aae-8e5b-2a45d980b654-c000.snappy.parquet\n",
            "-rw-r--r-- 1 root root 25M Feb 25 19:23 part-00003-9461fe62-0ecd-4aae-8e5b-2a45d980b654-c000.snappy.parquet\n",
            "-rw-r--r-- 1 root root   0 Feb 25 19:23 _SUCCESS\n"
          ]
        }
      ]
    },
    {
      "cell_type": "code",
      "source": [
        "df = spark.read.parquet('yellow_taxi/2024/10/')"
      ],
      "metadata": {
        "id": "lZKI55eRlb3x"
      },
      "execution_count": 49,
      "outputs": []
    },
    {
      "cell_type": "code",
      "source": [
        "df \\\n",
        "  .filter(df.trip_distance > 0) \\\n",
        "  .filter(df.total_amount > 0) \\\n",
        "  .filter(F.to_date(df.tpep_pickup_datetime) == '2024-10-15') \\\n",
        "  .count()"
      ],
      "metadata": {
        "colab": {
          "base_uri": "https://localhost:8080/"
        },
        "id": "aye_qF38k0Sb",
        "outputId": "ad4ee571-02f3-4bd7-e4fb-b669a9f83f8e"
      },
      "execution_count": 75,
      "outputs": [
        {
          "output_type": "execute_result",
          "data": {
            "text/plain": [
              "128893"
            ]
          },
          "metadata": {},
          "execution_count": 75
        }
      ]
    },
    {
      "cell_type": "code",
      "source": [
        "import datetime\n",
        "from pyspark.sql import functions as F\n",
        "from pyspark.sql.functions import unix_timestamp"
      ],
      "metadata": {
        "id": "PM0iacylrDOA"
      },
      "execution_count": 70,
      "outputs": []
    },
    {
      "cell_type": "code",
      "source": [
        "df.withColumn('duration', (unix_timestamp(df.tpep_dropoff_datetime) - unix_timestamp(df.tpep_pickup_datetime))/(60*60)) \\\n",
        "  .select('VendorID', 'tpep_pickup_datetime', 'duration') \\\n",
        "  .orderBy('duration', ascending=False) \\\n",
        "  .show()"
      ],
      "metadata": {
        "colab": {
          "base_uri": "https://localhost:8080/"
        },
        "id": "hn5FQbCcquw6",
        "outputId": "57637ffc-9c2b-4949-a0e5-46415e9ed6cc"
      },
      "execution_count": 71,
      "outputs": [
        {
          "output_type": "stream",
          "name": "stdout",
          "text": [
            "+--------+--------------------+------------------+\n",
            "|VendorID|tpep_pickup_datetime|          duration|\n",
            "+--------+--------------------+------------------+\n",
            "|       2| 2024-10-16 13:03:49|162.61777777777777|\n",
            "|       2| 2024-10-03 18:47:25|           143.325|\n",
            "|       2| 2024-10-22 16:00:55|137.76055555555556|\n",
            "|       2| 2024-10-18 09:53:32|114.83472222222223|\n",
            "|       2| 2024-10-21 00:36:24| 89.89833333333333|\n",
            "|       2| 2024-10-20 13:30:52| 89.44611111111111|\n",
            "|       2| 2024-10-22 16:04:52| 70.29916666666666|\n",
            "|       2| 2024-10-12 19:32:51| 67.57333333333334|\n",
            "|       2| 2024-10-17 17:58:18| 66.06666666666666|\n",
            "|       2| 2024-10-21 14:28:21|           46.4225|\n",
            "|       2| 2024-10-20 18:58:28| 42.30888888888889|\n",
            "|       2| 2024-10-24 20:29:58| 38.47416666666667|\n",
            "|       2| 2024-10-23 23:52:02| 33.95111111111111|\n",
            "|       2| 2024-10-02 10:36:50| 26.29861111111111|\n",
            "|       2| 2024-10-14 22:39:53| 25.29138888888889|\n",
            "|       2| 2024-10-15 11:49:15|25.238333333333333|\n",
            "|       2| 2024-10-23 11:22:58|             24.47|\n",
            "|       2| 2024-10-20 13:37:44|23.996666666666666|\n",
            "|       2| 2024-10-14 20:22:20|23.995277777777776|\n",
            "|       2| 2024-10-02 19:04:07|23.994722222222222|\n",
            "+--------+--------------------+------------------+\n",
            "only showing top 20 rows\n",
            "\n"
          ]
        }
      ]
    },
    {
      "cell_type": "code",
      "source": [
        "!wget https://d37ci6vzurychx.cloudfront.net/misc/taxi_zone_lookup.csv"
      ],
      "metadata": {
        "colab": {
          "base_uri": "https://localhost:8080/"
        },
        "id": "rbFFdIzNurWs",
        "outputId": "9aa68ffe-22ad-443f-d579-284db087ffdd"
      },
      "execution_count": 78,
      "outputs": [
        {
          "output_type": "stream",
          "name": "stdout",
          "text": [
            "--2025-02-25 20:09:53--  https://d37ci6vzurychx.cloudfront.net/misc/taxi_zone_lookup.csv\n",
            "Resolving d37ci6vzurychx.cloudfront.net (d37ci6vzurychx.cloudfront.net)... 3.167.84.127, 3.167.84.86, 3.167.84.228, ...\n",
            "Connecting to d37ci6vzurychx.cloudfront.net (d37ci6vzurychx.cloudfront.net)|3.167.84.127|:443... connected.\n",
            "HTTP request sent, awaiting response... 200 OK\n",
            "Length: 12331 (12K) [text/csv]\n",
            "Saving to: ‘taxi_zone_lookup.csv’\n",
            "\n",
            "\rtaxi_zone_lookup.cs   0%[                    ]       0  --.-KB/s               \rtaxi_zone_lookup.cs 100%[===================>]  12.04K  --.-KB/s    in 0s      \n",
            "\n",
            "2025-02-25 20:09:53 (272 MB/s) - ‘taxi_zone_lookup.csv’ saved [12331/12331]\n",
            "\n"
          ]
        }
      ]
    },
    {
      "cell_type": "code",
      "source": [
        "zone_df = spark.read \\\n",
        "    .option(\"header\", \"true\") \\\n",
        "    .csv('taxi_zone_lookup.csv')"
      ],
      "metadata": {
        "id": "6n-wsjYPuvyc"
      },
      "execution_count": 79,
      "outputs": []
    },
    {
      "cell_type": "code",
      "source": [
        "df.groupby('PULocationID') \\\n",
        "  .count() \\\n",
        "  .join(zone_df, df.PULocationID == zone_df.LocationID) \\\n",
        "  .orderBy('count', ascending=True) \\\n",
        "  .select('Zone', 'count', 'PULocationID') \\\n",
        "  .show()"
      ],
      "metadata": {
        "colab": {
          "base_uri": "https://localhost:8080/"
        },
        "id": "lrlKXrdluaUC",
        "outputId": "0080b4f3-62fa-4744-80dc-5be05229b797"
      },
      "execution_count": 82,
      "outputs": [
        {
          "output_type": "stream",
          "name": "stdout",
          "text": [
            "+--------------------+-----+------------+\n",
            "|                Zone|count|PULocationID|\n",
            "+--------------------+-----+------------+\n",
            "|Governor's Island...|    1|         105|\n",
            "|       Rikers Island|    2|         199|\n",
            "|       Arden Heights|    2|           5|\n",
            "| Green-Wood Cemetery|    3|         111|\n",
            "|         Jamaica Bay|    3|           2|\n",
            "|   Rossville/Woodrow|    4|         204|\n",
            "|Charleston/Totten...|    4|          44|\n",
            "|       West Brighton|    4|         245|\n",
            "|       Port Richmond|    4|         187|\n",
            "|Eltingville/Annad...|    4|          84|\n",
            "|         Great Kills|    6|         109|\n",
            "|        Crotona Park|    6|          59|\n",
            "|     Mariners Harbor|    7|         156|\n",
            "|Heartland Village...|    7|         118|\n",
            "|Saint George/New ...|    9|         206|\n",
            "|             Oakwood|    9|         176|\n",
            "|       Broad Channel|   10|          30|\n",
            "|New Dorp/Midland ...|   10|         172|\n",
            "|         Westerleigh|   12|         251|\n",
            "|     Pelham Bay Park|   12|         184|\n",
            "+--------------------+-----+------------+\n",
            "only showing top 20 rows\n",
            "\n"
          ]
        }
      ]
    }
  ]
}